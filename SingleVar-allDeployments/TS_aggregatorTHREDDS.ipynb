{
 "cells": [
  {
   "cell_type": "markdown",
   "metadata": {},
   "source": [
    "# Get all data from a variable (TEMP or PSAL) for all instruments on a Site\n",
    "## Using the THREDDS service\n",
    "\n",
    "The user has to specify the name of the station according to the AODN THREDDS catalog structure under the ANMN (e.g.QLD/GBRPPS) and the variable of interest (TEMP or PSAL) "
   ]
  },
  {
   "cell_type": "code",
   "execution_count": 2,
   "metadata": {},
   "outputs": [
    {
     "name": "stderr",
     "output_type": "stream",
     "text": [
      "/home/eklein/anaconda3/lib/python3.6/site-packages/ggplot/utils.py:81: FutureWarning: pandas.tslib is deprecated and will be removed in a future version.\n",
      "You can access Timestamp as pandas.Timestamp\n",
      "  pd.tslib.Timestamp,\n",
      "/home/eklein/anaconda3/lib/python3.6/site-packages/ggplot/stats/smoothers.py:4: FutureWarning: The pandas.lib module is deprecated and will be removed in a future version. These are private functions and can be accessed from pandas._libs.lib instead\n",
      "  from pandas.lib import Timestamp\n",
      "/home/eklein/anaconda3/lib/python3.6/site-packages/statsmodels/compat/pandas.py:56: FutureWarning: The pandas.core.datetools module is deprecated and will be removed in a future version. Please use the pandas.tseries module instead.\n",
      "  from pandas.core import datetools\n"
     ]
    }
   ],
   "source": [
    "import numpy as np\n",
    "import pandas as pd\n",
    "import matplotlib.pyplot as plt\n",
    "import xarray as xr\n",
    "import threddsclient\n",
    "from ggplot import *"
   ]
  },
  {
   "cell_type": "markdown",
   "metadata": {},
   "source": [
    "### Setup the site name and the variable name. The variable must be one of TEMP or PSAL"
   ]
  },
  {
   "cell_type": "code",
   "execution_count": 3,
   "metadata": {},
   "outputs": [
    {
     "name": "stdout",
     "output_type": "stream",
     "text": [
      "{'name': 'TEMP', 'nameQC': 'TEMP_quality_control'}\n"
     ]
    }
   ],
   "source": [
    "############\n",
    "site = 'QLD/GBRMYR'                  ######  <-------- change the station name HERE\n",
    "variableOfInterest = 'TEMP'          ######  <-------- change the name of the variable HERE\n",
    "############\n",
    "\n",
    "\n",
    "## the variable name is a dictionary entry under the keys 'name' and 'nameQC'\n",
    "variableName = {'name': variableOfInterest,\n",
    "                'nameQC': variableOfInterest + '_quality_control'}\n",
    "\n",
    "print(variableName)"
   ]
  },
  {
   "cell_type": "markdown",
   "metadata": {},
   "source": [
    "### Get the list of files from the THREDDS server"
   ]
  },
  {
   "cell_type": "code",
   "execution_count": 4,
   "metadata": {},
   "outputs": [
    {
     "name": "stdout",
     "output_type": "stream",
     "text": [
      "Number of files: 126\n"
     ]
    }
   ],
   "source": [
    "## Catalogue url\n",
    "\n",
    "PPcatalogueURL = 'http://thredds.aodn.org.au/thredds/catalog/IMOS/ANMN/' + site + '/Temperature/catalog.html'\n",
    "\n",
    "## read URLs\n",
    "urls = threddsclient.opendap_urls(PPcatalogueURL)\n",
    "print('Number of files: ' + str(len(urls)))"
   ]
  },
  {
   "cell_type": "markdown",
   "metadata": {},
   "source": [
    "### Initialise the metadata (MD) and DATA variables"
   ]
  },
  {
   "cell_type": "code",
   "execution_count": 5,
   "metadata": {},
   "outputs": [],
   "source": [
    "MD_sitecode = []\n",
    "MD_deploymentcode = []\n",
    "MD_longitudeMean = []\n",
    "MD_latitudeMean = []\n",
    "MD_longitudeAll = []\n",
    "MD_latitudeAll = []\n",
    "MD_timecoverageStart = []\n",
    "MD_timecoverageEnd = []\n",
    "MD_instrumentSN = []\n",
    "MD_instrumentname = []\n",
    "\n",
    "## Initialise the DATA variables\n",
    "\n",
    "DATA_var = np.empty([0])\n",
    "DATA_varQC = np.empty([0])\n",
    "DATA_time = np.empty([0], dtype='datetime64[ns]')\n",
    "DATA_depth = np.empty([0])\n",
    "DATA_depthQC = np.empty([0])\n",
    "DATA_depthNominal = np.empty([0])\n",
    "\n",
    "DATA_deploymentCode = np.empty([0], dtype='str')\n",
    "DATA_instrumentSN = np.empty([0], dtype='str')\n",
    "\n",
    "## to get the coords of the variable. It is probably variable \n",
    "DATA_coordinates = []"
   ]
  },
  {
   "cell_type": "markdown",
   "metadata": {},
   "source": [
    "### Loop over the files and collect the variable of interest"
   ]
  },
  {
   "cell_type": "code",
   "execution_count": null,
   "metadata": {},
   "outputs": [
    {
     "name": "stdout",
     "output_type": "stream",
     "text": [
      "0,1,2,3,4,5,6,7,8,9,10,11,12,13,14,15,16,17,18,19,20,21,22,23,24,25,26,27,28,29,30,31,32,33,34,35,36,37,38,39,40,41,42,43,44,45,46,47,48,49,50,51,52,53,"
     ]
    }
   ],
   "source": [
    "for i in range(0, len(urls)-1):\n",
    "    nc = xr.open_dataset(urls[i])\n",
    "    print(i, end=\",\", flush=True)\n",
    "    \n",
    "    nRecords = len(nc.TIME)\n",
    "\n",
    "    ## check if variable name is in the file\n",
    "    ncNames = dict(nc.data_vars)\n",
    "    if variableName['name'] in ncNames:\n",
    "\n",
    "        \n",
    "        ## collect the attributes\n",
    "        MD_attr = nc.attrs\n",
    "        MD_sitecode.append(MD_attr['site_code'])\n",
    "        MD_deploymentcode.append(MD_attr['deployment_code'])\n",
    "        MD_longitudeAll.append(MD_attr['geospatial_lon_min'])\n",
    "        MD_latitudeAll.append(MD_attr['geospatial_lat_min'])\n",
    "        MD_timecoverageStart.append(MD_attr['time_deployment_start']) \n",
    "        MD_timecoverageEnd.append(MD_attr['time_deployment_end'])\n",
    "        MD_instrumentSN.append(MD_attr['instrument_serial_number'])\n",
    "        MD_instrumentname.append(MD_attr['instrument'])\n",
    "        \n",
    "        \n",
    "        ## collect coords of the variable\n",
    "        DATA_coordinates.append(list(nc.TEMP.coords))\n",
    "        \n",
    "        ## collect DATA\n",
    "        DATA_time = np.concatenate((DATA_time, nc.TIME.values.reshape(-1)))\n",
    "        DATA_var = np.concatenate((DATA_var, nc[variableName['name']].values.reshape(-1)))\n",
    "        DATA_varQC = np.concatenate((DATA_varQC, nc[variableName['nameQC']].values.reshape(-1)))\n",
    "        \n",
    "        ## Collect DEPTH. It could be a variable or a dimension!\n",
    "        ## check if there is a variable DEPTH in the variable list\n",
    "        if 'DEPTH' in ncNames:\n",
    "            DATA_depth = np.concatenate((DATA_depth, nc.DEPTH.values.reshape(-1)))\n",
    "        else:\n",
    "            DATA_depth = np.concatenate((DATA_depth, np.repeat(float(nc.attrs['instrument_nominal_depth']), nRecords)))\n",
    "        \n",
    "        ## collect instrument nominal depth and make an array with length of the variable TS\n",
    "        DATA_depthNominal = np.concatenate((DATA_depthNominal, np.repeat(float(nc.attrs['instrument_nominal_depth']), nRecords)))\n",
    "        \n",
    "        ## collect the Instrument serial number and deployment code\n",
    "        DATA_deploymentCode = np.concatenate((DATA_deploymentCode, np.repeat(nc.attrs['deployment_code'], nRecords)))\n",
    "        DATA_instrumentSN = np.concatenate((DATA_instrumentSN, np.repeat(nc.attrs['instrument_serial_number'], nRecords)))\n",
    "        \n",
    "        \n",
    "\n",
    "\n",
    "        \n",
    "    else:   ## in case the variable is not in the file, skip and print a message\n",
    "        print('NO ' + variableName['name'] + ' in the file ' + urls[i])\n",
    "\n",
    "print('all files readed')"
   ]
  },
  {
   "cell_type": "markdown",
   "metadata": {},
   "source": [
    "Verify that the variable vector has the same dimension (length) of time and quality_control vectors"
   ]
  },
  {
   "cell_type": "code",
   "execution_count": null,
   "metadata": {},
   "outputs": [],
   "source": [
    "print('TIME: '+ str(DATA_time.shape))\n",
    "print(variableName['name'] + ': ' + str(DATA_var.shape))\n",
    "print(variableName['nameQC'] + ': ' + str(DATA_varQC.shape))\n",
    "print('DEPTH: ' + str(DATA_depth.shape))\n",
    "print('NominalDepth: ', str(DATA_depthNominal.shape))\n",
    "print('DeploymentCode: ' + str(DATA_deploymentCode.shape))\n",
    "print('Serial Number: ' + str(DATA_instrumentSN.shape))"
   ]
  },
  {
   "cell_type": "markdown",
   "metadata": {},
   "source": [
    "### Plot the time series\n",
    "\n",
    "Converting variable and time to `pandas Series` object. Filter the data with QC flag <=2 (good/probably good data)"
   ]
  },
  {
   "cell_type": "code",
   "execution_count": null,
   "metadata": {},
   "outputs": [],
   "source": [
    "## Create pandas DataFrame. \n",
    "data = {'TIME': DATA_time[DATA_varQC>=1], \n",
    "        'TEMP': DATA_var[DATA_varQC>=1], \n",
    "        'TEMPQC': DATA_varQC[DATA_varQC>=1], \n",
    "        'DEPTH': DATA_depth[DATA_varQC>=1],\n",
    "        'depthNOMINAL': DATA_depthNominal[DATA_varQC>=1]}\n",
    "\n",
    "df = pd.DataFrame(data)\n",
    "\n",
    "df.head()"
   ]
  },
  {
   "cell_type": "markdown",
   "metadata": {},
   "source": [
    "### Write csv file\n",
    "\n",
    "This could result in a very long file, depending on the number of deployments/instruments"
   ]
  },
  {
   "cell_type": "code",
   "execution_count": null,
   "metadata": {},
   "outputs": [],
   "source": [
    "## write csv file\n",
    "df.to_csv('tempAll.csv', index=False)"
   ]
  },
  {
   "cell_type": "code",
   "execution_count": null,
   "metadata": {},
   "outputs": [],
   "source": [
    "## make a ggplot\n",
    "\n",
    "## pp = ggplot(aes(x='TIME', y='TEMP'), data=df)\n",
    "## pp + geom_line() "
   ]
  },
  {
   "cell_type": "code",
   "execution_count": 1,
   "metadata": {},
   "outputs": [
    {
     "ename": "NameError",
     "evalue": "name 'pd' is not defined",
     "output_type": "error",
     "traceback": [
      "\u001b[0;31m---------------------------------------------------------------------------\u001b[0m",
      "\u001b[0;31mNameError\u001b[0m                                 Traceback (most recent call last)",
      "\u001b[0;32m<ipython-input-1-c592f83226bf>\u001b[0m in \u001b[0;36m<module>\u001b[0;34m()\u001b[0m\n\u001b[1;32m      1\u001b[0m \u001b[0;31m## create a pandas Series object only with good/probably good data\u001b[0m\u001b[0;34m\u001b[0m\u001b[0;34m\u001b[0m\u001b[0m\n\u001b[0;32m----> 2\u001b[0;31m \u001b[0ms\u001b[0m \u001b[0;34m=\u001b[0m \u001b[0mpd\u001b[0m\u001b[0;34m.\u001b[0m\u001b[0mSeries\u001b[0m\u001b[0;34m(\u001b[0m\u001b[0mDATA_var\u001b[0m\u001b[0;34m[\u001b[0m\u001b[0mDATA_varQC\u001b[0m\u001b[0;34m<=\u001b[0m\u001b[0;36m2\u001b[0m\u001b[0;34m]\u001b[0m\u001b[0;34m,\u001b[0m \u001b[0mindex\u001b[0m\u001b[0;34m=\u001b[0m\u001b[0mDATA_time\u001b[0m\u001b[0;34m[\u001b[0m\u001b[0mDATA_varQC\u001b[0m\u001b[0;34m<=\u001b[0m\u001b[0;36m2\u001b[0m\u001b[0;34m]\u001b[0m\u001b[0;34m)\u001b[0m\u001b[0;34m\u001b[0m\u001b[0m\n\u001b[0m\u001b[1;32m      3\u001b[0m \u001b[0ms\u001b[0m \u001b[0;34m=\u001b[0m \u001b[0ms\u001b[0m\u001b[0;34m.\u001b[0m\u001b[0msort_index\u001b[0m\u001b[0;34m(\u001b[0m\u001b[0;34m)\u001b[0m   \u001b[0;31m## sort the series in case the index is not in chronological order)\u001b[0m\u001b[0;34m\u001b[0m\u001b[0m\n\u001b[1;32m      4\u001b[0m \u001b[0;34m\u001b[0m\u001b[0m\n\u001b[1;32m      5\u001b[0m \u001b[0;31m## plpot the series\u001b[0m\u001b[0;34m\u001b[0m\u001b[0;34m\u001b[0m\u001b[0m\n",
      "\u001b[0;31mNameError\u001b[0m: name 'pd' is not defined"
     ]
    }
   ],
   "source": [
    "## create a pandas Series object only with good/probably good data\n",
    "s = pd.Series(DATA_var[DATA_varQC<=2], index=DATA_time[DATA_varQC<=2])\n",
    "s = s.sort_index()   ## sort the series in case the index is not in chronological order)\n",
    "\n",
    "## plpot the series\n",
    "plt.plot(s)\n",
    "plt.show()"
   ]
  },
  {
   "cell_type": "code",
   "execution_count": null,
   "metadata": {},
   "outputs": [],
   "source": []
  }
 ],
 "metadata": {
  "kernelspec": {
   "display_name": "Python 3",
   "language": "python",
   "name": "python3"
  },
  "language_info": {
   "codemirror_mode": {
    "name": "ipython",
    "version": 3
   },
   "file_extension": ".py",
   "mimetype": "text/x-python",
   "name": "python",
   "nbconvert_exporter": "python",
   "pygments_lexer": "ipython3",
   "version": "3.6.6"
  }
 },
 "nbformat": 4,
 "nbformat_minor": 2
}
