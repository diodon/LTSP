{
 "cells": [
  {
   "cell_type": "markdown",
   "metadata": {},
   "source": [
    "# Get all data from a variable (TEMP or PSAL) for all instruments on a Site\n",
    "## Using the THREDDS service\n",
    "\n",
    "The user has to specify the name of the station according to the AODN THREDDS catalog structure under the ANMN (e.g.QLD/GBRPPS) and the variable of interest (TEMP or PSAL) "
   ]
  },
  {
   "cell_type": "code",
   "execution_count": 100,
   "metadata": {},
   "outputs": [
    {
     "name": "stderr",
     "output_type": "stream",
     "text": [
      "/home/eklein/anaconda3/lib/python3.6/site-packages/ggplot/utils.py:81: FutureWarning: pandas.tslib is deprecated and will be removed in a future version.\n",
      "You can access Timestamp as pandas.Timestamp\n",
      "  pd.tslib.Timestamp,\n",
      "/home/eklein/anaconda3/lib/python3.6/site-packages/ggplot/stats/smoothers.py:4: FutureWarning: The pandas.lib module is deprecated and will be removed in a future version. These are private functions and can be accessed from pandas._libs.lib instead\n",
      "  from pandas.lib import Timestamp\n",
      "/home/eklein/anaconda3/lib/python3.6/site-packages/statsmodels/compat/pandas.py:56: FutureWarning: The pandas.core.datetools module is deprecated and will be removed in a future version. Please use the pandas.tseries module instead.\n",
      "  from pandas.core import datetools\n"
     ]
    }
   ],
   "source": [
    "import numpy as np\n",
    "import pandas as pd\n",
    "import matplotlib.pyplot as plt\n",
    "import xarray as xr\n",
    "import threddsclient\n",
    "from ggplot import *\n",
    "\n"
   ]
  },
  {
   "cell_type": "markdown",
   "metadata": {},
   "source": [
    "### Setup the site name and the variable name. The variable must be one of TEMP or PSAL"
   ]
  },
  {
   "cell_type": "code",
   "execution_count": 125,
   "metadata": {},
   "outputs": [
    {
     "name": "stdout",
     "output_type": "stream",
     "text": [
      "{'name': 'TEMP', 'nameQC': 'TEMP_quality_control'}\n"
     ]
    }
   ],
   "source": [
    "\n",
    "############\n",
    "site = 'QLD/GBRMYR'                  ######  <-------- change the station name HERE\n",
    "variableOfInterest = 'TEMP'          ######  <-------- change the name of the variable HERE\n",
    "############\n",
    "\n",
    "\n",
    "## the variable name is a dictionary entry under the keys 'name' and 'nameQC'\n",
    "variableName = {'name': variableOfInterest,\n",
    "                'nameQC': variableOfInterest + '_quality_control'}\n",
    "\n",
    "print(variableName)"
   ]
  },
  {
   "cell_type": "markdown",
   "metadata": {},
   "source": [
    "### Get the list of files from the THREDDS server"
   ]
  },
  {
   "cell_type": "code",
   "execution_count": 126,
   "metadata": {},
   "outputs": [
    {
     "name": "stdout",
     "output_type": "stream",
     "text": [
      "Number of files: 126\n"
     ]
    }
   ],
   "source": [
    "## Catalogue url\n",
    "\n",
    "PPcatalogueURL = 'http://thredds.aodn.org.au/thredds/catalog/IMOS/ANMN/' + site + '/Temperature/catalog.html'\n",
    "\n",
    "## read URLs\n",
    "urls = threddsclient.opendap_urls(PPcatalogueURL)\n",
    "print('Number of files: ' + str(len(urls)))\n"
   ]
  },
  {
   "cell_type": "markdown",
   "metadata": {},
   "source": [
    "### Initialise the metadata (MD) variables"
   ]
  },
  {
   "cell_type": "code",
   "execution_count": 127,
   "metadata": {},
   "outputs": [],
   "source": [
    "MD_sitecode = []\n",
    "MD_deploymentcode = []\n",
    "MD_longitudeMean = []\n",
    "MD_latitudeMean = []\n",
    "MD_longitudeAll = []\n",
    "MD_latitudeAll = []\n",
    "MD_timecoverageStart = []\n",
    "MD_timecoverageEnd = []\n",
    "MD_instrumentSN = []\n",
    "MD_instrumentname = []"
   ]
  },
  {
   "cell_type": "markdown",
   "metadata": {},
   "source": [
    "### Initialise the DATA variables"
   ]
  },
  {
   "cell_type": "code",
   "execution_count": 128,
   "metadata": {},
   "outputs": [],
   "source": [
    "DATA_var = np.empty([0])\n",
    "DATA_varQC = np.empty([0])\n",
    "DATA_time = np.empty([0], dtype='datetime64[ns]')\n",
    "DATA_depth = np.empty([0])\n",
    "DATA_depthQC = np.empty([0])\n",
    "DATA_depthNominal = np.empty([0])\n",
    "\n",
    "DATA_deploymentCode = np.empty([0], dtype='str')\n",
    "DATA_instrumentSN = np.empty([0], dtype='str')\n",
    "\n",
    "## to get the coords of the variable. It is probably variable \n",
    "DATA_coordinates = []"
   ]
  },
  {
   "cell_type": "markdown",
   "metadata": {},
   "source": [
    "### Loop over the files and collect the variable of interest"
   ]
  },
  {
   "cell_type": "code",
   "execution_count": 129,
   "metadata": {},
   "outputs": [],
   "source": [
    "\n",
    "\n",
    "for i in range(0, len(urls)-1):\n",
    "    nc = xr.open_dataset(urls[i])\n",
    "\n",
    "    ## check if variable name is in the file\n",
    "    ncNames = dict(nc.data_vars)\n",
    "    if variableName['name'] in ncNames:\n",
    "        ## print(i)\n",
    "        \n",
    "        ## collect the attributes\n",
    "        MD_attr = nc.attrs\n",
    "        MD_sitecode.append(MD_attr['site_code'])\n",
    "        MD_deploymentcode.append(MD_attr['deployment_code'])\n",
    "        MD_longitudeAll.append(MD_attr['geospatial_lon_min'])\n",
    "        MD_latitudeAll.append(MD_attr['geospatial_lat_min'])\n",
    "        MD_timecoverageStart.append(MD_attr['time_deployment_start']) \n",
    "        MD_timecoverageEnd.append(MD_attr['time_deployment_end'])\n",
    "        MD_instrumentSN.append(MD_attr['instrument_serial_number'])\n",
    "        MD_instrumentname.append(MD_attr['instrument'])\n",
    "        \n",
    "        \n",
    "        ## collect coords of the variable\n",
    "        DATA_coordinates.append(list(nc.TEMP.coords))\n",
    "        \n",
    "        ## collect DATA\n",
    "        DATA_time = np.concatenate((DATA_time, nc.TIME.values.reshape(-1)))\n",
    "        DATA_var = np.concatenate((DATA_var, nc[variableName['name']].values.reshape(-1)))\n",
    "        DATA_varQC = np.concatenate((DATA_varQC, nc[variableName['nameQC']].values.reshape(-1)))\n",
    "        \n",
    "        ## Collect DEPTH. It could be a variable or a dimension!\n",
    "        ## check if there is a variable DEPTH in the variable list\n",
    "        if 'DEPTH'in ncNames:\n",
    "            DATA_depth = np.concatenate((DATA_depth, nc.DEPTH.values.reshape(-1)))\n",
    "        else:\n",
    "            DATA_depth = np.repeat(float(nc.attrs['instrument_nominal_depth']), len(DATA_var))\n",
    "            \n",
    "        \n",
    "        ## collect instrument nominal depth and make an array with length of the variable TS\n",
    "        DATA_depthNominal = np.concatenate((DATA_depthNominal, np.repeat(float(nc.attrs['instrument_nominal_depth']), len(nc.TIME))))\n",
    "        \n",
    "        ## collect the Instrument serial number and deployment code\n",
    "        DATA_deploymentCode = np.concatenate((DATA_deploymentCode, np.repeat(nc.attrs['deployment_code'], len(nc.TIME))))\n",
    "        DATA_instrumentSN = np.concatenate((DATA_instrumentSN, np.repeat(nc.attrs['instrument_serial_number'], len(nc.TIME))))\n",
    "        \n",
    "        \n",
    "\n",
    "\n",
    "        \n",
    "    else:   ## in case the variable is not in the file, skip and print a message\n",
    "        print('NO ' + variableName['name'] + ' in the file ' + urls[i])\n",
    "\n"
   ]
  },
  {
   "cell_type": "markdown",
   "metadata": {},
   "source": [
    "Verify that the variable vector has the same dimension (length) of time and quality_control vectors"
   ]
  },
  {
   "cell_type": "code",
   "execution_count": 130,
   "metadata": {},
   "outputs": [
    {
     "name": "stdout",
     "output_type": "stream",
     "text": [
      "TIME: (25384374,)\n",
      "TEMP: (25384374,)\n",
      "TEMP_quality_control: (25384374,)\n",
      "DEPTH: (25384374,)\n",
      "NominalDepth:  (25384374,)\n",
      "DeploymentCode: (25384374,)\n",
      "Serial Number: (25384374,)\n"
     ]
    }
   ],
   "source": [
    "print('TIME: '+ str(DATA_time.shape))\n",
    "print(variableName['name'] + ': ' + str(DATA_var.shape))\n",
    "print(variableName['nameQC'] + ': ' + str(DATA_varQC.shape))\n",
    "print('DEPTH: ' + str(DATA_depth.shape))\n",
    "print('NominalDepth: ', str(DATA_depthNominal.shape))\n",
    "print('DeploymentCode: ' + str(DATA_deploymentCode.shape))\n",
    "print('Serial Number: ' + str(DATA_instrumentSN.shape))"
   ]
  },
  {
   "cell_type": "markdown",
   "metadata": {},
   "source": [
    "### Plot the time series\n",
    "\n",
    "Converting variable and time to `pandas Series` object. Filter the data with QC flag <=2 (good/probably good data)"
   ]
  },
  {
   "cell_type": "code",
   "execution_count": 131,
   "metadata": {},
   "outputs": [
    {
     "data": {
      "text/html": [
       "<div>\n",
       "<style scoped>\n",
       "    .dataframe tbody tr th:only-of-type {\n",
       "        vertical-align: middle;\n",
       "    }\n",
       "\n",
       "    .dataframe tbody tr th {\n",
       "        vertical-align: top;\n",
       "    }\n",
       "\n",
       "    .dataframe thead th {\n",
       "        text-align: right;\n",
       "    }\n",
       "</style>\n",
       "<table border=\"1\" class=\"dataframe\">\n",
       "  <thead>\n",
       "    <tr style=\"text-align: right;\">\n",
       "      <th></th>\n",
       "      <th>TEMP</th>\n",
       "      <th>TEMPQC</th>\n",
       "      <th>TIME</th>\n",
       "      <th>depthNOMINAL</th>\n",
       "    </tr>\n",
       "  </thead>\n",
       "  <tbody>\n",
       "    <tr>\n",
       "      <th>0</th>\n",
       "      <td>26.1668</td>\n",
       "      <td>3.0</td>\n",
       "      <td>2008-06-19 08:00:00.000003328</td>\n",
       "      <td>100.0</td>\n",
       "    </tr>\n",
       "    <tr>\n",
       "      <th>1</th>\n",
       "      <td>26.1377</td>\n",
       "      <td>3.0</td>\n",
       "      <td>2008-06-19 08:04:59.999995648</td>\n",
       "      <td>100.0</td>\n",
       "    </tr>\n",
       "    <tr>\n",
       "      <th>2</th>\n",
       "      <td>26.0225</td>\n",
       "      <td>3.0</td>\n",
       "      <td>2008-06-19 08:09:59.999997696</td>\n",
       "      <td>100.0</td>\n",
       "    </tr>\n",
       "    <tr>\n",
       "      <th>3</th>\n",
       "      <td>25.6891</td>\n",
       "      <td>3.0</td>\n",
       "      <td>2008-06-19 08:15:00.000000000</td>\n",
       "      <td>100.0</td>\n",
       "    </tr>\n",
       "    <tr>\n",
       "      <th>4</th>\n",
       "      <td>25.8304</td>\n",
       "      <td>3.0</td>\n",
       "      <td>2008-06-19 08:20:00.000002304</td>\n",
       "      <td>100.0</td>\n",
       "    </tr>\n",
       "  </tbody>\n",
       "</table>\n",
       "</div>"
      ],
      "text/plain": [
       "      TEMP  TEMPQC                          TIME  depthNOMINAL\n",
       "0  26.1668     3.0 2008-06-19 08:00:00.000003328         100.0\n",
       "1  26.1377     3.0 2008-06-19 08:04:59.999995648         100.0\n",
       "2  26.0225     3.0 2008-06-19 08:09:59.999997696         100.0\n",
       "3  25.6891     3.0 2008-06-19 08:15:00.000000000         100.0\n",
       "4  25.8304     3.0 2008-06-19 08:20:00.000002304         100.0"
      ]
     },
     "execution_count": 131,
     "metadata": {},
     "output_type": "execute_result"
    }
   ],
   "source": [
    "## Create pandas DataFrame. \n",
    "data = {'TIME': DATA_time[DATA_varQC>=1], \n",
    "        'TEMP': DATA_var[DATA_varQC>=1], \n",
    "        'TEMPQC': DATA_varQC[DATA_varQC>=1], \n",
    "        'depthNOMINAL': DATA_depthNominal[DATA_varQC>=1]}\n",
    "\n",
    "df = pd.DataFrame(data)\n",
    "\n",
    "df.head()"
   ]
  },
  {
   "cell_type": "markdown",
   "metadata": {},
   "source": [
    "### Write csv file"
   ]
  },
  {
   "cell_type": "code",
   "execution_count": 133,
   "metadata": {},
   "outputs": [],
   "source": [
    "## write csv file\n",
    "df.to_csv('tempAll.csv', index=False)"
   ]
  },
  {
   "cell_type": "code",
   "execution_count": null,
   "metadata": {},
   "outputs": [],
   "source": [
    "## make a ggplot\n",
    "\n",
    "## pp = ggplot(aes(x='TIME', y='TEMP'), data=df)\n",
    "## pp + geom_line() "
   ]
  },
  {
   "cell_type": "code",
   "execution_count": 132,
   "metadata": {},
   "outputs": [
    {
     "data": {
      "image/png": "[encoded data removed]",
      "text/plain": [
       "<Figure size 432x288 with 1 Axes>"
      ]
     },
     "metadata": {},
     "output_type": "display_data"
    }
   ],
   "source": [
    "## create a pandas Series object only with good/probably good data\n",
    "s = pd.Series(DATA_var[DATA_varQC<=2], index=DATA_time[DATA_varQC<=2])\n",
    "s = s.sort_index()   ## sort the series in case the index is not in chronological order)\n",
    "\n",
    "## plpot the series\n",
    "plt.plot(s)\n",
    "plt.show()"
   ]
  },
  {
   "cell_type": "code",
   "execution_count": null,
   "metadata": {},
   "outputs": [],
   "source": []
  }
 ],
 "metadata": {
  "kernelspec": {
   "display_name": "Python 3",
   "language": "python",
   "name": "python3"
  },
  "language_info": {
   "codemirror_mode": {
    "name": "ipython",
    "version": 3
   },
   "file_extension": ".py",
   "mimetype": "text/x-python",
   "name": "python",
   "nbconvert_exporter": "python",
   "pygments_lexer": "ipython3",
   "version": "3.6.6"
  }
 },
 "nbformat": 4,
 "nbformat_minor": 2
}
